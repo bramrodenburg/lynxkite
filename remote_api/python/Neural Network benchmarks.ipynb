{
 "cells": [
  {
   "cell_type": "code",
   "execution_count": 4,
   "metadata": {
    "collapsed": false
   },
   "outputs": [],
   "source": [
    "%matplotlib inline\n",
    "import lynx\n",
    "lk = lynx.LynxKite(address='http://localhost:2200/')\n",
    "import pandas\n",
    "import matplotlib.pyplot as plt\n",
    "import random"
   ]
  },
  {
   "cell_type": "code",
   "execution_count": 5,
   "metadata": {
    "collapsed": false
   },
   "outputs": [],
   "source": [
    "partition1 = 400\n",
    "partition2 = 600\n",
    "\n",
    "completeBipartiteEdges = (lk.new_project()\n",
    ".derivescalar(output = 'partition1', type = 'double', expr = str(partition2))\n",
    ".derivescalar(output = 'partition2', type = 'double', expr = str(partition1))\n",
    ".newvertexset(size = partition1 * partition2)\n",
    ".vertexattributetodouble(attr = 'ordinal')\n",
    ".derivedvertexattribute(output = 'src', type = 'string', expr = 'Math.floor(ordinal / partition1)')\n",
    ".derivedvertexattribute(output = 'dst', type = 'string', expr = '(ordinal % partition1) + partition2'))\n",
    "t = completeBipartiteEdges.sql('select * from vertices').to_table()"
   ]
  },
  {
   "cell_type": "code",
   "execution_count": 13,
   "metadata": {
    "collapsed": false
   },
   "outputs": [
    {
     "data": {
      "text/plain": [
       "[<matplotlib.lines.Line2D at 0x7efd55504860>]"
      ]
     },
     "execution_count": 13,
     "metadata": {},
     "output_type": "execute_result"
    },
    {
     "data": {
      "image/png": "[encoded data removed]",
      "text/plain": [
       "<matplotlib.figure.Figure at 0x7efd57fe7898>"
      ]
     },
     "metadata": {},
     "output_type": "display_data"
    }
   ],
   "source": [
    "random.seed(15)\n",
    "def error_with_forget_fraction(i):\n",
    "    graph = (lk.new_project().importverticesandedgesfromasingletable(table = t.name, src = 'src', dst = 'dst')\n",
    "    .derivescalar(output = 'partition2', type = 'double', expr = str(partition1))\n",
    "    .derivedvertexattribute(output = 'truePartition', type = 'double', expr = 'stringID < partition2 ? 1.0 : -1.0')\n",
    "    .addgaussianvertexattribute(name = 'a', seed = '13')\n",
    "    .derivedvertexattribute(output = 'partition', type = 'double', expr = 'a < -0.7 ? undefined : truePartition')\n",
    "    .trainneuralnetworkanduseittopredictanattribute(\n",
    "        label = \"partition\",\n",
    "        output = \"prediction\",\n",
    "        features = \"!unset\",\n",
    "        networkSize = \"4\",\n",
    "        learningRate = \"0.02\",\n",
    "        radius = \"3\",\n",
    "        hideState = \"false\",\n",
    "        forgetFraction = str(i),\n",
    "        trainingRadius = \"1\",\n",
    "        maxTrainingVertices = \"9\",\n",
    "        minTrainingVertices = \"7\",\n",
    "        iterationsInTraining = \"50\",\n",
    "        subgraphsInTraining = \"10\",\n",
    "        knownLabelWeight = \"0.5\",\n",
    "        numberOfTrainings = \"10\",\n",
    "        seed = str(random.randint(0,10000000)))\n",
    "    .derivedvertexattribute(output = 'isWrong', type = 'double',\n",
    "                        expr = 'var p = prediction < 0 ? -1 : 1; p === truePartition ? 0.0 : 1.0;')\n",
    "    .derivedvertexattribute(output = 'differenceSquare', type = 'double',\n",
    "                        expr = '(truePartition - prediction) * (truePartition - prediction)')\n",
    "    .aggregatevertexattributeglobally(prefix = '', **{'aggregate-differenceSquare': 'sum'}))\n",
    "    return graph.scalar('differenceSquare_sum')\n",
    "\n",
    "number_of_examples = 3\n",
    "r = range(0,101,5)\n",
    "errors = []\n",
    "for i in r:\n",
    "    temporary_errors = []\n",
    "    for j in range(number_of_examples):\n",
    "        temporary_errors.append(float(error_with_forget_fraction(i / 100)))\n",
    "    errors.append(sum(temporary_errors) / number_of_examples)\n",
    "plt.plot(r, errors)"
   ]
  },
  {
   "cell_type": "code",
   "execution_count": null,
   "metadata": {
    "collapsed": true
   },
   "outputs": [],
   "source": []
  }
 ],
 "metadata": {
  "anaconda-cloud": {},
  "kernelspec": {
   "display_name": "Python [Root]",
   "language": "python",
   "name": "Python [Root]"
  },
  "language_info": {
   "codemirror_mode": {
    "name": "ipython",
    "version": 3
   },
   "file_extension": ".py",
   "mimetype": "text/x-python",
   "name": "python",
   "nbconvert_exporter": "python",
   "pygments_lexer": "ipython3",
   "version": "3.5.2"
  }
 },
 "nbformat": 4,
 "nbformat_minor": 0
}
