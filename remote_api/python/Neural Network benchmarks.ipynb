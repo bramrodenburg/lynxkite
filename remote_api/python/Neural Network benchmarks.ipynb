{
 "cells": [
  {
   "cell_type": "code",
   "execution_count": 109,
   "metadata": {
    "collapsed": true
   },
   "outputs": [],
   "source": [
    "import lynx"
   ]
  },
  {
   "cell_type": "code",
   "execution_count": 110,
   "metadata": {
    "collapsed": true
   },
   "outputs": [],
   "source": [
    "lk = lynx.LynxKite(address='http://localhost:2200/')"
   ]
  },
  {
   "cell_type": "code",
   "execution_count": 111,
   "metadata": {
    "collapsed": true
   },
   "outputs": [],
   "source": [
    "import pandas"
   ]
  },
  {
   "cell_type": "code",
   "execution_count": 120,
   "metadata": {
    "collapsed": false
   },
   "outputs": [
    {
     "data": {
      "text/html": [
       "<div>\n",
       "<table border=\"1\" class=\"dataframe\">\n",
       "  <thead>\n",
       "    <tr style=\"text-align: right;\">\n",
       "      <th></th>\n",
       "      <th>color</th>\n",
       "      <th>id</th>\n",
       "      <th>stringID</th>\n",
       "    </tr>\n",
       "  </thead>\n",
       "  <tbody>\n",
       "    <tr>\n",
       "      <th>0</th>\n",
       "      <td>1.0</td>\n",
       "      <td>-9103770305901363147</td>\n",
       "      <td>72</td>\n",
       "    </tr>\n",
       "    <tr>\n",
       "      <th>1</th>\n",
       "      <td>1.0</td>\n",
       "      <td>-8499159135349112773</td>\n",
       "      <td>76</td>\n",
       "    </tr>\n",
       "    <tr>\n",
       "      <th>2</th>\n",
       "      <td>1.0</td>\n",
       "      <td>-8361175665923325896</td>\n",
       "      <td>17</td>\n",
       "    </tr>\n",
       "    <tr>\n",
       "      <th>3</th>\n",
       "      <td>1.0</td>\n",
       "      <td>-8292973307544731636</td>\n",
       "      <td>15</td>\n",
       "    </tr>\n",
       "    <tr>\n",
       "      <th>4</th>\n",
       "      <td>1.0</td>\n",
       "      <td>-8225913900093145057</td>\n",
       "      <td>16</td>\n",
       "    </tr>\n",
       "    <tr>\n",
       "      <th>5</th>\n",
       "      <td>2.0</td>\n",
       "      <td>-8062155292541976514</td>\n",
       "      <td>44</td>\n",
       "    </tr>\n",
       "    <tr>\n",
       "      <th>6</th>\n",
       "      <td>1.0</td>\n",
       "      <td>-7685764892959178689</td>\n",
       "      <td>70</td>\n",
       "    </tr>\n",
       "    <tr>\n",
       "      <th>7</th>\n",
       "      <td>1.0</td>\n",
       "      <td>-7423979210269523952</td>\n",
       "      <td>48</td>\n",
       "    </tr>\n",
       "    <tr>\n",
       "      <th>8</th>\n",
       "      <td>2.0</td>\n",
       "      <td>-7261648962812116986</td>\n",
       "      <td>57</td>\n",
       "    </tr>\n",
       "    <tr>\n",
       "      <th>9</th>\n",
       "      <td>1.0</td>\n",
       "      <td>-7138230367437193190</td>\n",
       "      <td>0</td>\n",
       "    </tr>\n",
       "  </tbody>\n",
       "</table>\n",
       "</div>"
      ],
      "text/plain": [
       "   color                   id stringID\n",
       "0    1.0 -9103770305901363147       72\n",
       "1    1.0 -8499159135349112773       76\n",
       "2    1.0 -8361175665923325896       17\n",
       "3    1.0 -8292973307544731636       15\n",
       "4    1.0 -8225913900093145057       16\n",
       "5    2.0 -8062155292541976514       44\n",
       "6    1.0 -7685764892959178689       70\n",
       "7    1.0 -7423979210269523952       48\n",
       "8    2.0 -7261648962812116986       57\n",
       "9    1.0 -7138230367437193190        0"
      ]
     },
     "execution_count": 120,
     "metadata": {},
     "output_type": "execute_result"
    }
   ],
   "source": [
    "edges = lk.new_project().newvertexset(size=100) \\\n",
    "  .vertexattributetodouble(attr='ordinal') \\\n",
    "  .derivedvertexattribute(output='src', type='string', expr='ordinal % 44') \\\n",
    "  .derivedvertexattribute(output='dst', type='string', expr='ordinal % 77')\n",
    "t = edges.sql('select * from vertices').to_table()\n",
    "p = lk.new_project().importverticesandedgesfromasingletable(table=t.name, src='src', dst='dst')\n",
    "\n",
    "pandas.DataFrame(p.findvertexcoloring(name='color').sql('select * from vertices').take(10))\n",
    "\n"
   ]
  },
  {
   "cell_type": "code",
   "execution_count": 197,
   "metadata": {
    "collapsed": false
   },
   "outputs": [
    {
     "data": {
      "text/html": [
       "<div>\n",
       "<table border=\"1\" class=\"dataframe\">\n",
       "  <thead>\n",
       "    <tr style=\"text-align: right;\">\n",
       "      <th></th>\n",
       "      <th>a</th>\n",
       "      <th>id</th>\n",
       "      <th>partition</th>\n",
       "      <th>prediction</th>\n",
       "      <th>stringID</th>\n",
       "      <th>truePartition</th>\n",
       "    </tr>\n",
       "  </thead>\n",
       "  <tbody>\n",
       "    <tr>\n",
       "      <th>0</th>\n",
       "      <td>1.682883</td>\n",
       "      <td>-7261648962812116986</td>\n",
       "      <td>1.0</td>\n",
       "      <td>0.997835</td>\n",
       "      <td>2</td>\n",
       "      <td>1.0</td>\n",
       "    </tr>\n",
       "    <tr>\n",
       "      <th>1</th>\n",
       "      <td>-0.405603</td>\n",
       "      <td>-4964420949324595199</td>\n",
       "      <td>-1.0</td>\n",
       "      <td>-0.998616</td>\n",
       "      <td>7</td>\n",
       "      <td>-1.0</td>\n",
       "    </tr>\n",
       "    <tr>\n",
       "      <th>2</th>\n",
       "      <td>-0.037654</td>\n",
       "      <td>-4962768464952426496</td>\n",
       "      <td>1.0</td>\n",
       "      <td>0.997835</td>\n",
       "      <td>4</td>\n",
       "      <td>1.0</td>\n",
       "    </tr>\n",
       "    <tr>\n",
       "      <th>3</th>\n",
       "      <td>0.018468</td>\n",
       "      <td>-3109364766762598398</td>\n",
       "      <td>-1.0</td>\n",
       "      <td>-0.998616</td>\n",
       "      <td>6</td>\n",
       "      <td>-1.0</td>\n",
       "    </tr>\n",
       "    <tr>\n",
       "      <th>4</th>\n",
       "      <td>-0.164347</td>\n",
       "      <td>1853403698189828099</td>\n",
       "      <td>1.0</td>\n",
       "      <td>0.997835</td>\n",
       "      <td>5</td>\n",
       "      <td>1.0</td>\n",
       "    </tr>\n",
       "    <tr>\n",
       "      <th>5</th>\n",
       "      <td>-0.767720</td>\n",
       "      <td>4437113782736519172</td>\n",
       "      <td>NaN</td>\n",
       "      <td>0.997823</td>\n",
       "      <td>0</td>\n",
       "      <td>1.0</td>\n",
       "    </tr>\n",
       "    <tr>\n",
       "      <th>6</th>\n",
       "      <td>0.822000</td>\n",
       "      <td>7515937758611767303</td>\n",
       "      <td>1.0</td>\n",
       "      <td>0.997835</td>\n",
       "      <td>1</td>\n",
       "      <td>1.0</td>\n",
       "    </tr>\n",
       "    <tr>\n",
       "      <th>7</th>\n",
       "      <td>-0.202210</td>\n",
       "      <td>7564655869003038725</td>\n",
       "      <td>1.0</td>\n",
       "      <td>0.997835</td>\n",
       "      <td>3</td>\n",
       "      <td>1.0</td>\n",
       "    </tr>\n",
       "  </tbody>\n",
       "</table>\n",
       "</div>"
      ],
      "text/plain": [
       "          a                   id  partition  prediction stringID  \\\n",
       "0  1.682883 -7261648962812116986        1.0    0.997835        2   \n",
       "1 -0.405603 -4964420949324595199       -1.0   -0.998616        7   \n",
       "2 -0.037654 -4962768464952426496        1.0    0.997835        4   \n",
       "3  0.018468 -3109364766762598398       -1.0   -0.998616        6   \n",
       "4 -0.164347  1853403698189828099        1.0    0.997835        5   \n",
       "5 -0.767720  4437113782736519172        NaN    0.997823        0   \n",
       "6  0.822000  7515937758611767303        1.0    0.997835        1   \n",
       "7 -0.202210  7564655869003038725        1.0    0.997835        3   \n",
       "\n",
       "   truePartition  \n",
       "0            1.0  \n",
       "1           -1.0  \n",
       "2            1.0  \n",
       "3           -1.0  \n",
       "4            1.0  \n",
       "5            1.0  \n",
       "6            1.0  \n",
       "7            1.0  "
      ]
     },
     "execution_count": 197,
     "metadata": {},
     "output_type": "execute_result"
    }
   ],
   "source": [
    "partition1 = 6\n",
    "partition2 = 2\n",
    "\n",
    "edges = lk.new_project() \\\n",
    ".derivescalar(output = 'partition1', type = 'double', expr = str(partition2)) \\\n",
    ".derivescalar(output = 'partition2', type = 'double', expr = str(partition1)) \\\n",
    ".newvertexset(size = partition1 * partition2) \\\n",
    ".vertexattributetodouble(attr = 'ordinal') \\\n",
    ".derivedvertexattribute(output = 'src', type = 'string', expr = 'Math.floor(ordinal / partition1)') \\\n",
    ".derivedvertexattribute(output = 'dst', type = 'string', expr = '(ordinal % partition1) + partition2')\n",
    "t = edges.sql('select * from vertices').to_table()\n",
    "\n",
    "graph = lk.new_project().importverticesandedgesfromasingletable(table = t.name, src = 'src', dst = 'dst') \\\n",
    ".derivescalar(output = 'partition2', type = 'double', expr = str(partition1)) \\\n",
    ".derivedvertexattribute(output = 'truePartition', type = 'double', expr = 'stringID < partition2 ? 1.0 : -1.0') \\\n",
    ".addgaussianvertexattribute(name = 'a', seed = '13') \\\n",
    ".derivedvertexattribute(output = 'partition', type = 'double', expr = 'a < -0.7 ? undefined : truePartition') \\\n",
    ".trainneuralnetworkanduseittopredictanattribute( \\\n",
    "    label = \"partition\", \\\n",
    "    output = \"prediction\", \\\n",
    "    features = \"!unset\",\n",
    "    networkSize = \"4\", \\\n",
    "    learningRate = \"0.02\", \\\n",
    "    radius = \"3\", \\\n",
    "    hideState = \"false\", \\\n",
    "    forgetFraction = \"0.3\", \\\n",
    "    trainingRadius = \"1\", \\\n",
    "    maxTrainingVertices = \"8\", \\\n",
    "    minTrainingVertices = \"7\", \\\n",
    "    iterationsInTraining = \"50\", \\\n",
    "    subgraphsInTraining = \"10\", \\\n",
    "    knownLabelWeight = \"0.5\", \\\n",
    "    numberOfTrainings = \"10\")\n",
    "\n",
    "pandas.DataFrame(graph.sql('select * from vertices').take(100))"
   ]
  },
  {
   "cell_type": "code",
   "execution_count": null,
   "metadata": {
    "collapsed": true
   },
   "outputs": [],
   "source": []
  },
  {
   "cell_type": "code",
   "execution_count": null,
   "metadata": {
    "collapsed": true
   },
   "outputs": [],
   "source": []
  }
 ],
 "metadata": {
  "kernelspec": {
   "display_name": "Python [Root]",
   "language": "python",
   "name": "Python [Root]"
  },
  "language_info": {
   "codemirror_mode": {
    "name": "ipython",
    "version": 3
   },
   "file_extension": ".py",
   "mimetype": "text/x-python",
   "name": "python",
   "nbconvert_exporter": "python",
   "pygments_lexer": "ipython3",
   "version": "3.5.2"
  }
 },
 "nbformat": 4,
 "nbformat_minor": 0
}
